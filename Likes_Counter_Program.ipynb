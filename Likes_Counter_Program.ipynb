{
  "nbformat": 4,
  "nbformat_minor": 0,
  "metadata": {
    "colab": {
      "provenance": [],
      "include_colab_link": true
    },
    "kernelspec": {
      "name": "python3",
      "display_name": "Python 3"
    },
    "language_info": {
      "name": "python"
    }
  },
  "cells": [
    {
      "cell_type": "markdown",
      "metadata": {
        "id": "view-in-github",
        "colab_type": "text"
      },
      "source": [
        "<a href=\"https://colab.research.google.com/github/qobam/Project-alpha/blob/main/Likes_Counter_Program.ipynb\" target=\"_parent\"><img src=\"https://colab.research.google.com/assets/colab-badge.svg\" alt=\"Open In Colab\"/></a>"
      ]
    },
    {
      "cell_type": "code",
      "execution_count": 1,
      "metadata": {
        "id": "bjYf-b-ZklIv"
      },
      "outputs": [],
      "source": [
        "blog_posts = [{'Photos': 3, 'Likes': 21, 'Comments': 2},\n",
        "              {'Likes': 13, 'Comments': 2, 'Shares': 1},\n",
        "              {'Photos': 5, 'Likes': 33, 'Comments': 8, 'Shares': 3},\n",
        "              {'Comments': 4, 'Shares': 2},\n",
        "              {'Photos': 8, 'Comments': 1, 'Shares': 1},\n",
        "              {'Photos': 3, 'Likes': 19, 'Comments': 3}]"
      ]
    }
  ]
}